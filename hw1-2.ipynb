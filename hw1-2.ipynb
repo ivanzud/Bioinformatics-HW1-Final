{
 "cells": [
  {
   "cell_type": "code",
   "execution_count": 97,
   "metadata": {},
   "outputs": [],
   "source": [
    " # Module sys has to be imported:\n",
    "import sys                \n",
    "\n",
    "# Iteration over all arguments:\n",
    "\n",
    "#print(sys.argv[1])\n",
    "\n",
    "input_file = str(sys.argv[1])\n",
    "length_min = int(sys.argv[2])\n",
    "length_max = int(sys.argv[3])\n",
    "output_file = str(sys.argv[4])\n",
    "\n",
    "\n",
    "# input_file = \"inputfile\"\n",
    "# length_min = 100\n",
    "# length_max = 150\n",
    "# output_file = \"outputfile\""
   ]
  },
  {
   "cell_type": "code",
   "execution_count": 98,
   "metadata": {},
   "outputs": [],
   "source": [
    "from numpy.random import choice\n",
    "import random\n",
    "# def randsplit(lst):\n",
    "#     out = [[]]\n",
    "#     for item in lst:\n",
    "#         out[-1].append(item)\n",
    "#         if random.choice((True, False)):\n",
    "#             out.append([])\n",
    "#     return [l for l in out if len(l)]"
   ]
  },
  {
   "cell_type": "code",
   "execution_count": 1,
   "metadata": {},
   "outputs": [],
   "source": [
    "from itertools import islice\n",
    "from random import randint\n",
    "\n",
    "def random_chunk(li, min_chunk, max_chunk):\n",
    "    it = iter(li)\n",
    "    while True:\n",
    "        nxt = list(islice(it,randint(min_chunk,max_chunk)))\n",
    "        if nxt:\n",
    "            yield nxt\n",
    "        else:\n",
    "            break"
   ]
  },
  {
   "cell_type": "code",
   "execution_count": 2,
   "metadata": {},
   "outputs": [],
   "source": [
    "from random import randint\n",
    "\n",
    "def random_list_split(data):\n",
    "    split_list = []\n",
    "    L = len(data)\n",
    "    i = 0\n",
    "    while i < L:\n",
    "        r = randint(1,L-i)\n",
    "        split_list.append(data[i:i+r])\n",
    "        i = i + r\n",
    "    return split_list"
   ]
  },
  {
   "cell_type": "code",
   "execution_count": 101,
   "metadata": {},
   "outputs": [],
   "source": [
    "# from Bio import SeqIO\n",
    "\n",
    "# fasta_sequences = SeqIO.parse(open(input_file),'fasta')\n",
    "# with open(input_file) as in_file:\n",
    "#     for fasta in fasta_sequences:\n",
    "#         name, sequence = fasta.id, str(fasta.seq)\n",
    "#         new_sequence = some_function(sequence)\n",
    "#         write_fasta(outputfile)"
   ]
  },
  {
   "cell_type": "code",
   "execution_count": 102,
   "metadata": {},
   "outputs": [],
   "source": [
    "# from Bio import SeqIO\n",
    "# seq_dict = {rec.id : rec.seq for rec in SeqIO.parse(\"inputfile.fasta\", \"fasta\")}"
   ]
  },
  {
   "cell_type": "code",
   "execution_count": 103,
   "metadata": {},
   "outputs": [],
   "source": [
    "# seq_dict\n",
    "# dictlist = []\n",
    "# for key, value in seq_dict.items():\n",
    "#     temp = [value]\n",
    "#     dictlist.append(temp)\n",
    "\n",
    "# dictlist"
   ]
  },
  {
   "cell_type": "code",
   "execution_count": 104,
   "metadata": {},
   "outputs": [],
   "source": [
    "# rand_list = randsplit(dictlist)\n"
   ]
  },
  {
   "cell_type": "code",
   "execution_count": 105,
   "metadata": {},
   "outputs": [],
   "source": [
    "# len(rand_list)\n",
    "# rand_list"
   ]
  },
  {
   "cell_type": "code",
   "execution_count": 106,
   "metadata": {},
   "outputs": [],
   "source": [
    "seq_list =[]\n",
    "input_file = input_file + \".fasta\"\n",
    "ofile = open(input_file, \"r\")\n",
    "ofile_content = ofile.read()\n",
    "#print(ofile_content)\n",
    "words = str.split(ofile_content)\n",
    "#print(words)\n",
    "for i in range(len(words)):\n",
    "    if(\"S\" not in words[i]):\n",
    "        #print(\"hello\")\n",
    "        seq_list.append(words[i])\n",
    "ofile.close()\n"
   ]
  },
  {
   "cell_type": "code",
   "execution_count": 107,
   "metadata": {},
   "outputs": [],
   "source": [
    "#len(seq_list)"
   ]
  },
  {
   "cell_type": "code",
   "execution_count": 108,
   "metadata": {},
   "outputs": [],
   "source": [
    "partitioned_list = []\n",
    "for i in range(len(seq_list)):\n",
    "    temp_list = []\n",
    "    temp_list = list(random_chunk(seq_list[i], min_chunk=length_min, max_chunk=length_max))\n",
    "    #temp_list = random_list_split(seq_list[i])\n",
    "    partitioned_list.append(temp_list)\n",
    "    "
   ]
  },
  {
   "cell_type": "code",
   "execution_count": 109,
   "metadata": {},
   "outputs": [],
   "source": [
    "#len(partitioned_list[3])"
   ]
  },
  {
   "cell_type": "code",
   "execution_count": 110,
   "metadata": {},
   "outputs": [],
   "source": [
    "#flattened list of 10 partitions\n",
    "#len(partitioned_list)\n",
    "flat_list = [item for sublist in partitioned_list for item in sublist]\n",
    "#flat_list\n",
    "#len(flat_list)\n"
   ]
  },
  {
   "cell_type": "code",
   "execution_count": 111,
   "metadata": {},
   "outputs": [],
   "source": [
    "#going through flattened list to check for sequences within the min and max\n",
    "new_list = []\n",
    "count = 0\n",
    "for item in flat_list:\n",
    "    if len(item) >= length_min and len(item) <= length_max:\n",
    "        count = count + 1\n",
    "        new_list.append(item)\n",
    "        #print(len(item))\n",
    "#       if len(item) > length_max:\n",
    "#         print(len(item))\n",
    "        \n",
    "#print(count)\n"
   ]
  },
  {
   "cell_type": "code",
   "execution_count": 112,
   "metadata": {},
   "outputs": [],
   "source": [
    "#len(new_list)"
   ]
  },
  {
   "cell_type": "code",
   "execution_count": 113,
   "metadata": {},
   "outputs": [],
   "source": [
    "name_list = []\n",
    "for i in range(len(new_list)):\n",
    "    name_list.append(\"Seq:\" + str(i+1))"
   ]
  },
  {
   "cell_type": "code",
   "execution_count": 114,
   "metadata": {},
   "outputs": [],
   "source": [
    "#len(name_list)"
   ]
  },
  {
   "cell_type": "code",
   "execution_count": 115,
   "metadata": {},
   "outputs": [],
   "source": [
    "output_file = output_file + \".fasta\"\n",
    "o_file = open(output_file, \"w\")\n",
    "\n",
    "for i in range(len(new_list)):\n",
    "\n",
    "    o_file.write(\">\" + name_list[i] + \"\\n\" +''.join(new_list[i]) + \"\\n\")\n",
    "\n",
    "o_file.close()"
   ]
  },
  {
   "cell_type": "code",
   "execution_count": null,
   "metadata": {},
   "outputs": [],
   "source": []
  },
  {
   "cell_type": "code",
   "execution_count": null,
   "metadata": {},
   "outputs": [],
   "source": []
  },
  {
   "cell_type": "code",
   "execution_count": null,
   "metadata": {},
   "outputs": [],
   "source": []
  },
  {
   "cell_type": "code",
   "execution_count": null,
   "metadata": {},
   "outputs": [],
   "source": []
  }
 ],
 "metadata": {
  "kernelspec": {
   "display_name": "Python 3",
   "language": "python",
   "name": "python3"
  },
  "language_info": {
   "codemirror_mode": {
    "name": "ipython",
    "version": 3
   },
   "file_extension": ".py",
   "mimetype": "text/x-python",
   "name": "python",
   "nbconvert_exporter": "python",
   "pygments_lexer": "ipython3",
   "version": "3.7.6"
  }
 },
 "nbformat": 4,
 "nbformat_minor": 4
}
