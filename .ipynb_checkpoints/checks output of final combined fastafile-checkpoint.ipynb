{
 "cells": [
  {
   "cell_type": "code",
   "execution_count": 4,
   "metadata": {},
   "outputs": [],
   "source": [
    "seq_list =[]\n",
    "output_file = \"partitionedfile.fasta\"\n",
    "ofile1 = open(output_file, \"r\")\n",
    "ofile_content1 = ofile1.read()\n",
    "#print(ofile_content)\n",
    "words1 = str.split(ofile_content1)\n",
    "#print(words)\n",
    "for i in range(len(words1)):\n",
    "    if(\"S\" not in words1[i]):\n",
    "        #print(\"hello\")\n",
    "        seq_list.append(words1[i])\n",
    "ofile1.close()"
   ]
  },
  {
   "cell_type": "code",
   "execution_count": 6,
   "metadata": {},
   "outputs": [
    {
     "name": "stdout",
     "output_type": "stream",
     "text": [
      "20\n",
      "20\n",
      "60\n",
      "21\n",
      "68\n",
      "21\n",
      "63\n",
      "27\n",
      "25\n",
      "47\n",
      "54\n",
      "32\n",
      "26\n",
      "47\n",
      "27\n",
      "42\n",
      "39\n",
      "36\n",
      "29\n",
      "35\n",
      "63\n",
      "29\n",
      "48\n",
      "29\n",
      "23\n"
     ]
    }
   ],
   "source": [
    "for i in range(len(seq_list)):\n",
    "    print(len(seq_list[i]))"
   ]
  },
  {
   "cell_type": "code",
   "execution_count": null,
   "metadata": {},
   "outputs": [],
   "source": []
  }
 ],
 "metadata": {
  "kernelspec": {
   "display_name": "Python 3",
   "language": "python",
   "name": "python3"
  },
  "language_info": {
   "codemirror_mode": {
    "name": "ipython",
    "version": 3
   },
   "file_extension": ".py",
   "mimetype": "text/x-python",
   "name": "python",
   "nbconvert_exporter": "python",
   "pygments_lexer": "ipython3",
   "version": "3.7.6"
  }
 },
 "nbformat": 4,
 "nbformat_minor": 4
}
