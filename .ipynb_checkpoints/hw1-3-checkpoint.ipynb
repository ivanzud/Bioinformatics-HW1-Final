{
 "cells": [
  {
   "cell_type": "code",
   "execution_count": 313,
   "metadata": {},
   "outputs": [
    {
     "ename": "ValueError",
     "evalue": "invalid literal for int() with base 10: '/Users/ivan/Library/Jupyter/runtime/kernel-6b86855e-d052-4a99-917d-93a6f3cf63d2.json'",
     "output_type": "error",
     "traceback": [
      "\u001b[0;31m---------------------------------------------------------------------------\u001b[0m",
      "\u001b[0;31mValueError\u001b[0m                                Traceback (most recent call last)",
      "\u001b[0;32m<ipython-input-313-a6df4ce5ac53>\u001b[0m in \u001b[0;36m<module>\u001b[0;34m\u001b[0m\n\u001b[1;32m      7\u001b[0m \u001b[0;34m\u001b[0m\u001b[0m\n\u001b[1;32m      8\u001b[0m \u001b[0minput_file\u001b[0m \u001b[0;34m=\u001b[0m \u001b[0mstr\u001b[0m\u001b[0;34m(\u001b[0m\u001b[0msys\u001b[0m\u001b[0;34m.\u001b[0m\u001b[0margv\u001b[0m\u001b[0;34m[\u001b[0m\u001b[0;36m1\u001b[0m\u001b[0;34m]\u001b[0m\u001b[0;34m)\u001b[0m\u001b[0;34m\u001b[0m\u001b[0;34m\u001b[0m\u001b[0m\n\u001b[0;32m----> 9\u001b[0;31m \u001b[0mp1\u001b[0m \u001b[0;34m=\u001b[0m \u001b[0mint\u001b[0m\u001b[0;34m(\u001b[0m\u001b[0msys\u001b[0m\u001b[0;34m.\u001b[0m\u001b[0margv\u001b[0m\u001b[0;34m[\u001b[0m\u001b[0;36m2\u001b[0m\u001b[0;34m]\u001b[0m\u001b[0;34m)\u001b[0m \u001b[0;31m#match score\u001b[0m\u001b[0;34m\u001b[0m\u001b[0;34m\u001b[0m\u001b[0m\n\u001b[0m\u001b[1;32m     10\u001b[0m \u001b[0mp2\u001b[0m \u001b[0;34m=\u001b[0m \u001b[0mint\u001b[0m\u001b[0;34m(\u001b[0m\u001b[0msys\u001b[0m\u001b[0;34m.\u001b[0m\u001b[0margv\u001b[0m\u001b[0;34m[\u001b[0m\u001b[0;36m3\u001b[0m\u001b[0;34m]\u001b[0m\u001b[0;34m)\u001b[0m \u001b[0;31m#replace score\u001b[0m\u001b[0;34m\u001b[0m\u001b[0;34m\u001b[0m\u001b[0m\n\u001b[1;32m     11\u001b[0m \u001b[0mp3\u001b[0m \u001b[0;34m=\u001b[0m \u001b[0mint\u001b[0m\u001b[0;34m(\u001b[0m\u001b[0msys\u001b[0m\u001b[0;34m.\u001b[0m\u001b[0margv\u001b[0m\u001b[0;34m[\u001b[0m\u001b[0;36m4\u001b[0m\u001b[0;34m]\u001b[0m\u001b[0;34m)\u001b[0m \u001b[0;31m#delete score\u001b[0m\u001b[0;34m\u001b[0m\u001b[0;34m\u001b[0m\u001b[0m\n",
      "\u001b[0;31mValueError\u001b[0m: invalid literal for int() with base 10: '/Users/ivan/Library/Jupyter/runtime/kernel-6b86855e-d052-4a99-917d-93a6f3cf63d2.json'"
     ]
    }
   ],
   "source": [
    " # Module sys has to be imported:\n",
    "import sys                \n",
    "\n",
    "# Iteration over all arguments:\n",
    "\n",
    "#print(sys.argv[1])\n",
    "\n",
    "input_file = str(sys.argv[1])\n",
    "p1 = int(sys.argv[2]) #match score\n",
    "p2 = int(sys.argv[3]) #replace score\n",
    "p3 = int(sys.argv[4]) #delete score\n",
    "output_file = str(sys.argv[5])\n",
    "\n",
    "\n",
    "# input_file = \"partitionedfile\"\n",
    "# output_file = \"Final_outputfile\""
   ]
  },
  {
   "cell_type": "code",
   "execution_count": 306,
   "metadata": {},
   "outputs": [],
   "source": [
    "#opens and stores fasta sequences in list\n",
    "\n",
    "seq_list =[]\n",
    "input_file = input_file + \".fasta\"\n",
    "ofile = open(input_file, \"r\")\n",
    "ofile_content = ofile.read()\n",
    "#print(ofile_content)\n",
    "words = str.split(ofile_content)\n",
    "#print(words)\n",
    "for i in range(len(words)):\n",
    "    if(\"S\" not in words[i]):\n",
    "        #print(\"hello\")\n",
    "        seq_list.append(words[i])\n",
    "ofile.close()\n",
    "\n"
   ]
  },
  {
   "cell_type": "code",
   "execution_count": 307,
   "metadata": {
    "scrolled": true
   },
   "outputs": [
    {
     "data": {
      "text/plain": [
       "23"
      ]
     },
     "execution_count": 307,
     "metadata": {},
     "output_type": "execute_result"
    }
   ],
   "source": [
    "len(seq_list)"
   ]
  },
  {
   "cell_type": "code",
   "execution_count": 308,
   "metadata": {},
   "outputs": [],
   "source": [
    "# new_frag\n",
    "# seq_list = seq_list[20:30]\n",
    "# print(seq_list)\n"
   ]
  },
  {
   "cell_type": "code",
   "execution_count": 309,
   "metadata": {},
   "outputs": [],
   "source": [
    "new_frag = []\n"
   ]
  },
  {
   "cell_type": "code",
   "execution_count": 310,
   "metadata": {},
   "outputs": [
    {
     "name": "stdout",
     "output_type": "stream",
     "text": [
      "--- 0.1469709873199463 seconds ---\n"
     ]
    }
   ],
   "source": [
    "from Bio import pairwise2\n",
    "from Bio.pairwise2 import format_alignment\n",
    "import time\n",
    "start_time = time.time()\n",
    "\n",
    "length_of_seq = len(seq_list)\n",
    "\n",
    "max_alignment_score = 0\n",
    "first_seq_index = 0\n",
    "second_seq_index = 0\n",
    "\n",
    "for i in range(length_of_seq):\n",
    "    \n",
    "    for j in range(length_of_seq):\n",
    "        length = pairwise2.align.globalms(seq_list[i], seq_list[j], 1, -1, -3, -3,\n",
    "                                              penalize_end_gaps=False)[0][2]\n",
    "        #print(\"Iterated %s times\" % j)\n",
    "        \n",
    "        if(length > max_alignment_score):\n",
    "            max_alignment_score = length\n",
    "            first_seq_index = i\n",
    "            second_seq_index = j\n",
    "            #print(\"Iterated max %s times\" % j)\n",
    "            \n",
    "new_frag = seq_list[first_seq_index] + seq_list[second_seq_index]\n",
    "seq_list.pop(first_seq_index)\n",
    "seq_list.pop(second_seq_index)\n",
    "\n",
    "\n",
    "print(\"--- %s seconds ---\" % (time.time() - start_time))\n"
   ]
  },
  {
   "cell_type": "code",
   "execution_count": 311,
   "metadata": {},
   "outputs": [
    {
     "data": {
      "text/plain": [
       "21"
      ]
     },
     "execution_count": 311,
     "metadata": {},
     "output_type": "execute_result"
    }
   ],
   "source": [
    "len(seq_list)"
   ]
  },
  {
   "cell_type": "code",
   "execution_count": 312,
   "metadata": {},
   "outputs": [
    {
     "name": "stdout",
     "output_type": "stream",
     "text": [
      "Old Frag: GTCAGCTATTCTCGCGTTGACCTAGCAGGGTCAGCGCCCGTCAGCTATTCTCGCGTTGACCTAGCAGGGTCAGCGCCC\n",
      "Original length of Fragment: 78\n",
      "Length of popped sequence:  26\n",
      "Popped a new sequence: GTCAGCTATTCTCGCGTTGACCTAGC\n",
      "New length of Fragment: 104\n",
      "New Frag: GTCAGCTATTCTCGCGTTGACCTAGCAGGGTCAGCGCCCGTCAGCTATTCTCGCGTTGACCTAGCAGGGTCAGCGCCCGTCAGCTATTCTCGCGTTGACCTAGC\n",
      "Length of seq_list 20\n",
      "--- 0.043398141860961914 seconds ---\n",
      "Runs recursion\n",
      "Old Frag: GTCAGCTATTCTCGCGTTGACCTAGCAGGGTCAGCGCCCGTCAGCTATTCTCGCGTTGACCTAGCAGGGTCAGCGCCCGTCAGCTATTCTCGCGTTGACCTAGC\n",
      "Original length of Fragment: 104\n",
      "Length of popped sequence:  22\n",
      "Popped a new sequence: AGGGTCAGCGCCCGCGGCCAGC\n",
      "New length of Fragment: 126\n",
      "New Frag: GTCAGCTATTCTCGCGTTGACCTAGCAGGGTCAGCGCCCGTCAGCTATTCTCGCGTTGACCTAGCAGGGTCAGCGCCCGTCAGCTATTCTCGCGTTGACCTAGCAGGGTCAGCGCCCGCGGCCAGC\n",
      "Length of seq_list 19\n",
      "--- 0.10237002372741699 seconds ---\n",
      "Runs recursion\n",
      "Old Frag: GTCAGCTATTCTCGCGTTGACCTAGCAGGGTCAGCGCCCGTCAGCTATTCTCGCGTTGACCTAGCAGGGTCAGCGCCCGTCAGCTATTCTCGCGTTGACCTAGCAGGGTCAGCGCCCGCGGCCAGC\n",
      "Original length of Fragment: 126\n",
      "Length of popped sequence:  10\n",
      "Popped a new sequence: GTCAGCTATT\n",
      "New length of Fragment: 136\n",
      "New Frag: GTCAGCTATTCTCGCGTTGACCTAGCAGGGTCAGCGCCCGTCAGCTATTCTCGCGTTGACCTAGCAGGGTCAGCGCCCGTCAGCTATTCTCGCGTTGACCTAGCAGGGTCAGCGCCCGCGGCCAGCGTCAGCTATT\n",
      "Length of seq_list 18\n",
      "--- 0.09421014785766602 seconds ---\n",
      "Runs recursion\n",
      "Old Frag: GTCAGCTATTCTCGCGTTGACCTAGCAGGGTCAGCGCCCGTCAGCTATTCTCGCGTTGACCTAGCAGGGTCAGCGCCCGTCAGCTATTCTCGCGTTGACCTAGCAGGGTCAGCGCCCGCGGCCAGCGTCAGCTATT\n",
      "Original length of Fragment: 136\n",
      "Length of popped sequence:  29\n",
      "Popped a new sequence: CTCGCGTTGACCTAGCAGGGTCAGCGCCC\n",
      "New length of Fragment: 165\n",
      "New Frag: GTCAGCTATTCTCGCGTTGACCTAGCAGGGTCAGCGCCCGTCAGCTATTCTCGCGTTGACCTAGCAGGGTCAGCGCCCGTCAGCTATTCTCGCGTTGACCTAGCAGGGTCAGCGCCCGCGGCCAGCGTCAGCTATTCTCGCGTTGACCTAGCAGGGTCAGCGCCC\n",
      "Length of seq_list 17\n",
      "--- 0.1117258071899414 seconds ---\n",
      "Runs recursion\n",
      "Old Frag: GTCAGCTATTCTCGCGTTGACCTAGCAGGGTCAGCGCCCGTCAGCTATTCTCGCGTTGACCTAGCAGGGTCAGCGCCCGTCAGCTATTCTCGCGTTGACCTAGCAGGGTCAGCGCCCGCGGCCAGCGTCAGCTATTCTCGCGTTGACCTAGCAGGGTCAGCGCCC\n",
      "Original length of Fragment: 165\n",
      "Length of popped sequence:  11\n",
      "Popped a new sequence: GCGGCCAGCCG\n",
      "New length of Fragment: 176\n",
      "New Frag: GTCAGCTATTCTCGCGTTGACCTAGCAGGGTCAGCGCCCGTCAGCTATTCTCGCGTTGACCTAGCAGGGTCAGCGCCCGTCAGCTATTCTCGCGTTGACCTAGCAGGGTCAGCGCCCGCGGCCAGCGTCAGCTATTCTCGCGTTGACCTAGCAGGGTCAGCGCCCGCGGCCAGCCG\n",
      "Length of seq_list 16\n",
      "--- 0.16730022430419922 seconds ---\n",
      "Runs recursion\n",
      "Old Frag: GTCAGCTATTCTCGCGTTGACCTAGCAGGGTCAGCGCCCGTCAGCTATTCTCGCGTTGACCTAGCAGGGTCAGCGCCCGTCAGCTATTCTCGCGTTGACCTAGCAGGGTCAGCGCCCGCGGCCAGCGTCAGCTATTCTCGCGTTGACCTAGCAGGGTCAGCGCCCGCGGCCAGCCG\n",
      "Original length of Fragment: 176\n",
      "Length of popped sequence:  10\n",
      "Popped a new sequence: GTCAGCTATT\n",
      "New length of Fragment: 186\n",
      "New Frag: GTCAGCTATTCTCGCGTTGACCTAGCAGGGTCAGCGCCCGTCAGCTATTCTCGCGTTGACCTAGCAGGGTCAGCGCCCGTCAGCTATTCTCGCGTTGACCTAGCAGGGTCAGCGCCCGCGGCCAGCGTCAGCTATTCTCGCGTTGACCTAGCAGGGTCAGCGCCCGCGGCCAGCCGGTCAGCTATT\n",
      "Length of seq_list 15\n",
      "--- 0.17194294929504395 seconds ---\n",
      "Runs recursion\n",
      "Old Frag: GTCAGCTATTCTCGCGTTGACCTAGCAGGGTCAGCGCCCGTCAGCTATTCTCGCGTTGACCTAGCAGGGTCAGCGCCCGTCAGCTATTCTCGCGTTGACCTAGCAGGGTCAGCGCCCGCGGCCAGCGTCAGCTATTCTCGCGTTGACCTAGCAGGGTCAGCGCCCGCGGCCAGCCGGTCAGCTATT\n",
      "Original length of Fragment: 186\n",
      "Length of popped sequence:  27\n",
      "Popped a new sequence: CTCGCGTTGACCTAGCAGGGTCAGCGC\n",
      "New length of Fragment: 213\n",
      "New Frag: GTCAGCTATTCTCGCGTTGACCTAGCAGGGTCAGCGCCCGTCAGCTATTCTCGCGTTGACCTAGCAGGGTCAGCGCCCGTCAGCTATTCTCGCGTTGACCTAGCAGGGTCAGCGCCCGCGGCCAGCGTCAGCTATTCTCGCGTTGACCTAGCAGGGTCAGCGCCCGCGGCCAGCCGGTCAGCTATTCTCGCGTTGACCTAGCAGGGTCAGCGC\n",
      "Length of seq_list 14\n",
      "--- 0.1717360019683838 seconds ---\n",
      "Runs recursion\n",
      "Old Frag: GTCAGCTATTCTCGCGTTGACCTAGCAGGGTCAGCGCCCGTCAGCTATTCTCGCGTTGACCTAGCAGGGTCAGCGCCCGTCAGCTATTCTCGCGTTGACCTAGCAGGGTCAGCGCCCGCGGCCAGCGTCAGCTATTCTCGCGTTGACCTAGCAGGGTCAGCGCCCGCGGCCAGCCGGTCAGCTATTCTCGCGTTGACCTAGCAGGGTCAGCGC\n",
      "Original length of Fragment: 213\n",
      "Length of popped sequence:  13\n",
      "Popped a new sequence: CCGCGGCCAGCCG\n",
      "New length of Fragment: 226\n",
      "New Frag: GTCAGCTATTCTCGCGTTGACCTAGCAGGGTCAGCGCCCGTCAGCTATTCTCGCGTTGACCTAGCAGGGTCAGCGCCCGTCAGCTATTCTCGCGTTGACCTAGCAGGGTCAGCGCCCGCGGCCAGCGTCAGCTATTCTCGCGTTGACCTAGCAGGGTCAGCGCCCGCGGCCAGCCGGTCAGCTATTCTCGCGTTGACCTAGCAGGGTCAGCGCCCGCGGCCAGCCG\n",
      "Length of seq_list 13\n",
      "--- 0.2260878086090088 seconds ---\n",
      "Runs recursion\n",
      "Old Frag: GTCAGCTATTCTCGCGTTGACCTAGCAGGGTCAGCGCCCGTCAGCTATTCTCGCGTTGACCTAGCAGGGTCAGCGCCCGTCAGCTATTCTCGCGTTGACCTAGCAGGGTCAGCGCCCGCGGCCAGCGTCAGCTATTCTCGCGTTGACCTAGCAGGGTCAGCGCCCGCGGCCAGCCGGTCAGCTATTCTCGCGTTGACCTAGCAGGGTCAGCGCCCGCGGCCAGCCG\n",
      "Original length of Fragment: 226\n",
      "Length of popped sequence:  35\n",
      "Popped a new sequence: GTCAGCTATTCTCGCGTTGACCTAGCAGGGTCAGC\n",
      "New length of Fragment: 261\n",
      "New Frag: GTCAGCTATTCTCGCGTTGACCTAGCAGGGTCAGCGCCCGTCAGCTATTCTCGCGTTGACCTAGCAGGGTCAGCGCCCGTCAGCTATTCTCGCGTTGACCTAGCAGGGTCAGCGCCCGCGGCCAGCGTCAGCTATTCTCGCGTTGACCTAGCAGGGTCAGCGCCCGCGGCCAGCCGGTCAGCTATTCTCGCGTTGACCTAGCAGGGTCAGCGCCCGCGGCCAGCCGGTCAGCTATTCTCGCGTTGACCTAGCAGGGTCAGC\n",
      "Length of seq_list 12\n",
      "--- 0.25942206382751465 seconds ---\n",
      "Runs recursion\n",
      "Old Frag: GTCAGCTATTCTCGCGTTGACCTAGCAGGGTCAGCGCCCGTCAGCTATTCTCGCGTTGACCTAGCAGGGTCAGCGCCCGTCAGCTATTCTCGCGTTGACCTAGCAGGGTCAGCGCCCGCGGCCAGCGTCAGCTATTCTCGCGTTGACCTAGCAGGGTCAGCGCCCGCGGCCAGCCGGTCAGCTATTCTCGCGTTGACCTAGCAGGGTCAGCGCCCGCGGCCAGCCGGTCAGCTATTCTCGCGTTGACCTAGCAGGGTCAGC\n",
      "Original length of Fragment: 261\n",
      "Length of popped sequence:  15\n",
      "Popped a new sequence: GCCCGCGGCCAGCCG\n",
      "New length of Fragment: 276\n",
      "New Frag: GTCAGCTATTCTCGCGTTGACCTAGCAGGGTCAGCGCCCGTCAGCTATTCTCGCGTTGACCTAGCAGGGTCAGCGCCCGTCAGCTATTCTCGCGTTGACCTAGCAGGGTCAGCGCCCGCGGCCAGCGTCAGCTATTCTCGCGTTGACCTAGCAGGGTCAGCGCCCGCGGCCAGCCGGTCAGCTATTCTCGCGTTGACCTAGCAGGGTCAGCGCCCGCGGCCAGCCGGTCAGCTATTCTCGCGTTGACCTAGCAGGGTCAGCGCCCGCGGCCAGCCG\n",
      "Length of seq_list 11\n",
      "--- 0.3222782611846924 seconds ---\n",
      "Runs recursion\n",
      "Old Frag: GTCAGCTATTCTCGCGTTGACCTAGCAGGGTCAGCGCCCGTCAGCTATTCTCGCGTTGACCTAGCAGGGTCAGCGCCCGTCAGCTATTCTCGCGTTGACCTAGCAGGGTCAGCGCCCGCGGCCAGCGTCAGCTATTCTCGCGTTGACCTAGCAGGGTCAGCGCCCGCGGCCAGCCGGTCAGCTATTCTCGCGTTGACCTAGCAGGGTCAGCGCCCGCGGCCAGCCGGTCAGCTATTCTCGCGTTGACCTAGCAGGGTCAGCGCCCGCGGCCAGCCG\n",
      "Original length of Fragment: 276\n",
      "Length of popped sequence:  11\n",
      "Popped a new sequence: GTCAGCTATTC\n",
      "New length of Fragment: 287\n",
      "New Frag: GTCAGCTATTCTCGCGTTGACCTAGCAGGGTCAGCGCCCGTCAGCTATTCTCGCGTTGACCTAGCAGGGTCAGCGCCCGTCAGCTATTCTCGCGTTGACCTAGCAGGGTCAGCGCCCGCGGCCAGCGTCAGCTATTCTCGCGTTGACCTAGCAGGGTCAGCGCCCGCGGCCAGCCGGTCAGCTATTCTCGCGTTGACCTAGCAGGGTCAGCGCCCGCGGCCAGCCGGTCAGCTATTCTCGCGTTGACCTAGCAGGGTCAGCGCCCGCGGCCAGCCGGTCAGCTATTC\n",
      "Length of seq_list 10\n",
      "--- 0.363051176071167 seconds ---\n",
      "Runs recursion\n",
      "Old Frag: GTCAGCTATTCTCGCGTTGACCTAGCAGGGTCAGCGCCCGTCAGCTATTCTCGCGTTGACCTAGCAGGGTCAGCGCCCGTCAGCTATTCTCGCGTTGACCTAGCAGGGTCAGCGCCCGCGGCCAGCGTCAGCTATTCTCGCGTTGACCTAGCAGGGTCAGCGCCCGCGGCCAGCCGGTCAGCTATTCTCGCGTTGACCTAGCAGGGTCAGCGCCCGCGGCCAGCCGGTCAGCTATTCTCGCGTTGACCTAGCAGGGTCAGCGCCCGCGGCCAGCCGGTCAGCTATTC\n",
      "Original length of Fragment: 287\n",
      "Length of popped sequence:  19\n",
      "Popped a new sequence: TCGCGTTGACCTAGCAGGG\n",
      "New length of Fragment: 306\n",
      "New Frag: GTCAGCTATTCTCGCGTTGACCTAGCAGGGTCAGCGCCCGTCAGCTATTCTCGCGTTGACCTAGCAGGGTCAGCGCCCGTCAGCTATTCTCGCGTTGACCTAGCAGGGTCAGCGCCCGCGGCCAGCGTCAGCTATTCTCGCGTTGACCTAGCAGGGTCAGCGCCCGCGGCCAGCCGGTCAGCTATTCTCGCGTTGACCTAGCAGGGTCAGCGCCCGCGGCCAGCCGGTCAGCTATTCTCGCGTTGACCTAGCAGGGTCAGCGCCCGCGGCCAGCCGGTCAGCTATTCTCGCGTTGACCTAGCAGGG\n",
      "Length of seq_list 9\n",
      "--- 0.3421640396118164 seconds ---\n",
      "Runs recursion\n",
      "Old Frag: GTCAGCTATTCTCGCGTTGACCTAGCAGGGTCAGCGCCCGTCAGCTATTCTCGCGTTGACCTAGCAGGGTCAGCGCCCGTCAGCTATTCTCGCGTTGACCTAGCAGGGTCAGCGCCCGCGGCCAGCGTCAGCTATTCTCGCGTTGACCTAGCAGGGTCAGCGCCCGCGGCCAGCCGGTCAGCTATTCTCGCGTTGACCTAGCAGGGTCAGCGCCCGCGGCCAGCCGGTCAGCTATTCTCGCGTTGACCTAGCAGGGTCAGCGCCCGCGGCCAGCCGGTCAGCTATTCTCGCGTTGACCTAGCAGGG\n",
      "Original length of Fragment: 306\n",
      "Length of popped sequence:  19\n",
      "Popped a new sequence: CAGCGCCCGCGGCCAGCCG\n",
      "New length of Fragment: 325\n",
      "New Frag: GTCAGCTATTCTCGCGTTGACCTAGCAGGGTCAGCGCCCGTCAGCTATTCTCGCGTTGACCTAGCAGGGTCAGCGCCCGTCAGCTATTCTCGCGTTGACCTAGCAGGGTCAGCGCCCGCGGCCAGCGTCAGCTATTCTCGCGTTGACCTAGCAGGGTCAGCGCCCGCGGCCAGCCGGTCAGCTATTCTCGCGTTGACCTAGCAGGGTCAGCGCCCGCGGCCAGCCGGTCAGCTATTCTCGCGTTGACCTAGCAGGGTCAGCGCCCGCGGCCAGCCGGTCAGCTATTCTCGCGTTGACCTAGCAGGGCAGCGCCCGCGGCCAGCCG\n",
      "Length of seq_list 8\n",
      "--- 0.37439894676208496 seconds ---\n",
      "Runs recursion\n"
     ]
    },
    {
     "name": "stdout",
     "output_type": "stream",
     "text": [
      "Old Frag: GTCAGCTATTCTCGCGTTGACCTAGCAGGGTCAGCGCCCGTCAGCTATTCTCGCGTTGACCTAGCAGGGTCAGCGCCCGTCAGCTATTCTCGCGTTGACCTAGCAGGGTCAGCGCCCGCGGCCAGCGTCAGCTATTCTCGCGTTGACCTAGCAGGGTCAGCGCCCGCGGCCAGCCGGTCAGCTATTCTCGCGTTGACCTAGCAGGGTCAGCGCCCGCGGCCAGCCGGTCAGCTATTCTCGCGTTGACCTAGCAGGGTCAGCGCCCGCGGCCAGCCGGTCAGCTATTCTCGCGTTGACCTAGCAGGGCAGCGCCCGCGGCCAGCCG\n",
      "Original length of Fragment: 325\n",
      "Length of popped sequence:  28\n",
      "Popped a new sequence: GTCAGCTATTCTCGCGTTGACCTAGCAG\n",
      "New length of Fragment: 353\n",
      "New Frag: GTCAGCTATTCTCGCGTTGACCTAGCAGGGTCAGCGCCCGTCAGCTATTCTCGCGTTGACCTAGCAGGGTCAGCGCCCGTCAGCTATTCTCGCGTTGACCTAGCAGGGTCAGCGCCCGCGGCCAGCGTCAGCTATTCTCGCGTTGACCTAGCAGGGTCAGCGCCCGCGGCCAGCCGGTCAGCTATTCTCGCGTTGACCTAGCAGGGTCAGCGCCCGCGGCCAGCCGGTCAGCTATTCTCGCGTTGACCTAGCAGGGTCAGCGCCCGCGGCCAGCCGGTCAGCTATTCTCGCGTTGACCTAGCAGGGCAGCGCCCGCGGCCAGCCGGTCAGCTATTCTCGCGTTGACCTAGCAG\n",
      "Length of seq_list 7\n",
      "--- 0.3612658977508545 seconds ---\n",
      "Runs recursion\n",
      "Old Frag: GTCAGCTATTCTCGCGTTGACCTAGCAGGGTCAGCGCCCGTCAGCTATTCTCGCGTTGACCTAGCAGGGTCAGCGCCCGTCAGCTATTCTCGCGTTGACCTAGCAGGGTCAGCGCCCGCGGCCAGCGTCAGCTATTCTCGCGTTGACCTAGCAGGGTCAGCGCCCGCGGCCAGCCGGTCAGCTATTCTCGCGTTGACCTAGCAGGGTCAGCGCCCGCGGCCAGCCGGTCAGCTATTCTCGCGTTGACCTAGCAGGGTCAGCGCCCGCGGCCAGCCGGTCAGCTATTCTCGCGTTGACCTAGCAGGGCAGCGCCCGCGGCCAGCCGGTCAGCTATTCTCGCGTTGACCTAGCAG\n",
      "Original length of Fragment: 353\n",
      "Length of popped sequence:  15\n",
      "Popped a new sequence: GGTCAGCGCCCGCGG\n",
      "New length of Fragment: 368\n",
      "New Frag: GTCAGCTATTCTCGCGTTGACCTAGCAGGGTCAGCGCCCGTCAGCTATTCTCGCGTTGACCTAGCAGGGTCAGCGCCCGTCAGCTATTCTCGCGTTGACCTAGCAGGGTCAGCGCCCGCGGCCAGCGTCAGCTATTCTCGCGTTGACCTAGCAGGGTCAGCGCCCGCGGCCAGCCGGTCAGCTATTCTCGCGTTGACCTAGCAGGGTCAGCGCCCGCGGCCAGCCGGTCAGCTATTCTCGCGTTGACCTAGCAGGGTCAGCGCCCGCGGCCAGCCGGTCAGCTATTCTCGCGTTGACCTAGCAGGGCAGCGCCCGCGGCCAGCCGGTCAGCTATTCTCGCGTTGACCTAGCAGGGTCAGCGCCCGCGG\n",
      "Length of seq_list 6\n",
      "--- 0.37093400955200195 seconds ---\n",
      "Runs recursion\n",
      "Old Frag: GTCAGCTATTCTCGCGTTGACCTAGCAGGGTCAGCGCCCGTCAGCTATTCTCGCGTTGACCTAGCAGGGTCAGCGCCCGTCAGCTATTCTCGCGTTGACCTAGCAGGGTCAGCGCCCGCGGCCAGCGTCAGCTATTCTCGCGTTGACCTAGCAGGGTCAGCGCCCGCGGCCAGCCGGTCAGCTATTCTCGCGTTGACCTAGCAGGGTCAGCGCCCGCGGCCAGCCGGTCAGCTATTCTCGCGTTGACCTAGCAGGGTCAGCGCCCGCGGCCAGCCGGTCAGCTATTCTCGCGTTGACCTAGCAGGGCAGCGCCCGCGGCCAGCCGGTCAGCTATTCTCGCGTTGACCTAGCAGGGTCAGCGCCCGCGG\n",
      "Original length of Fragment: 368\n",
      "Length of popped sequence:  13\n",
      "Popped a new sequence: GTCAGCTATTCTC\n",
      "New length of Fragment: 381\n",
      "New Frag: GTCAGCTATTCTCGCGTTGACCTAGCAGGGTCAGCGCCCGTCAGCTATTCTCGCGTTGACCTAGCAGGGTCAGCGCCCGTCAGCTATTCTCGCGTTGACCTAGCAGGGTCAGCGCCCGCGGCCAGCGTCAGCTATTCTCGCGTTGACCTAGCAGGGTCAGCGCCCGCGGCCAGCCGGTCAGCTATTCTCGCGTTGACCTAGCAGGGTCAGCGCCCGCGGCCAGCCGGTCAGCTATTCTCGCGTTGACCTAGCAGGGTCAGCGCCCGCGGCCAGCCGGTCAGCTATTCTCGCGTTGACCTAGCAGGGCAGCGCCCGCGGCCAGCCGGTCAGCTATTCTCGCGTTGACCTAGCAGGGTCAGCGCCCGCGGGTCAGCTATTCTC\n",
      "Length of seq_list 5\n",
      "--- 0.3853580951690674 seconds ---\n",
      "Runs recursion\n",
      "Old Frag: GTCAGCTATTCTCGCGTTGACCTAGCAGGGTCAGCGCCCGTCAGCTATTCTCGCGTTGACCTAGCAGGGTCAGCGCCCGTCAGCTATTCTCGCGTTGACCTAGCAGGGTCAGCGCCCGCGGCCAGCGTCAGCTATTCTCGCGTTGACCTAGCAGGGTCAGCGCCCGCGGCCAGCCGGTCAGCTATTCTCGCGTTGACCTAGCAGGGTCAGCGCCCGCGGCCAGCCGGTCAGCTATTCTCGCGTTGACCTAGCAGGGTCAGCGCCCGCGGCCAGCCGGTCAGCTATTCTCGCGTTGACCTAGCAGGGCAGCGCCCGCGGCCAGCCGGTCAGCTATTCTCGCGTTGACCTAGCAGGGTCAGCGCCCGCGGGTCAGCTATTCTC\n",
      "Original length of Fragment: 381\n",
      "Length of popped sequence:  36\n",
      "Popped a new sequence: GCGTTGACCTAGCAGGGTCAGCGCCCGCGGCCAGCC\n",
      "New length of Fragment: 417\n",
      "New Frag: GTCAGCTATTCTCGCGTTGACCTAGCAGGGTCAGCGCCCGTCAGCTATTCTCGCGTTGACCTAGCAGGGTCAGCGCCCGTCAGCTATTCTCGCGTTGACCTAGCAGGGTCAGCGCCCGCGGCCAGCGTCAGCTATTCTCGCGTTGACCTAGCAGGGTCAGCGCCCGCGGCCAGCCGGTCAGCTATTCTCGCGTTGACCTAGCAGGGTCAGCGCCCGCGGCCAGCCGGTCAGCTATTCTCGCGTTGACCTAGCAGGGTCAGCGCCCGCGGCCAGCCGGTCAGCTATTCTCGCGTTGACCTAGCAGGGCAGCGCCCGCGGCCAGCCGGTCAGCTATTCTCGCGTTGACCTAGCAGGGTCAGCGCCCGCGGGTCAGCTATTCTCGCGTTGACCTAGCAGGGTCAGCGCCCGCGGCCAGCC\n",
      "Length of seq_list 4\n",
      "--- 0.3448798656463623 seconds ---\n",
      "Runs recursion\n",
      "Old Frag: GTCAGCTATTCTCGCGTTGACCTAGCAGGGTCAGCGCCCGTCAGCTATTCTCGCGTTGACCTAGCAGGGTCAGCGCCCGTCAGCTATTCTCGCGTTGACCTAGCAGGGTCAGCGCCCGCGGCCAGCGTCAGCTATTCTCGCGTTGACCTAGCAGGGTCAGCGCCCGCGGCCAGCCGGTCAGCTATTCTCGCGTTGACCTAGCAGGGTCAGCGCCCGCGGCCAGCCGGTCAGCTATTCTCGCGTTGACCTAGCAGGGTCAGCGCCCGCGGCCAGCCGGTCAGCTATTCTCGCGTTGACCTAGCAGGGCAGCGCCCGCGGCCAGCCGGTCAGCTATTCTCGCGTTGACCTAGCAGGGTCAGCGCCCGCGGGTCAGCTATTCTCGCGTTGACCTAGCAGGGTCAGCGCCCGCGGCCAGCC\n",
      "Original length of Fragment: 417\n",
      "Length of popped sequence:  25\n",
      "Popped a new sequence: GTCAGCTATTCTCGCGTTGACCTAG\n",
      "New length of Fragment: 442\n",
      "New Frag: GTCAGCTATTCTCGCGTTGACCTAGCAGGGTCAGCGCCCGTCAGCTATTCTCGCGTTGACCTAGCAGGGTCAGCGCCCGTCAGCTATTCTCGCGTTGACCTAGCAGGGTCAGCGCCCGCGGCCAGCGTCAGCTATTCTCGCGTTGACCTAGCAGGGTCAGCGCCCGCGGCCAGCCGGTCAGCTATTCTCGCGTTGACCTAGCAGGGTCAGCGCCCGCGGCCAGCCGGTCAGCTATTCTCGCGTTGACCTAGCAGGGTCAGCGCCCGCGGCCAGCCGGTCAGCTATTCTCGCGTTGACCTAGCAGGGCAGCGCCCGCGGCCAGCCGGTCAGCTATTCTCGCGTTGACCTAGCAGGGTCAGCGCCCGCGGGTCAGCTATTCTCGCGTTGACCTAGCAGGGTCAGCGCCCGCGGCCAGCCGTCAGCTATTCTCGCGTTGACCTAG\n",
      "Length of seq_list 3\n",
      "--- 0.3262641429901123 seconds ---\n",
      "Runs recursion\n",
      "Old Frag: GTCAGCTATTCTCGCGTTGACCTAGCAGGGTCAGCGCCCGTCAGCTATTCTCGCGTTGACCTAGCAGGGTCAGCGCCCGTCAGCTATTCTCGCGTTGACCTAGCAGGGTCAGCGCCCGCGGCCAGCGTCAGCTATTCTCGCGTTGACCTAGCAGGGTCAGCGCCCGCGGCCAGCCGGTCAGCTATTCTCGCGTTGACCTAGCAGGGTCAGCGCCCGCGGCCAGCCGGTCAGCTATTCTCGCGTTGACCTAGCAGGGTCAGCGCCCGCGGCCAGCCGGTCAGCTATTCTCGCGTTGACCTAGCAGGGCAGCGCCCGCGGCCAGCCGGTCAGCTATTCTCGCGTTGACCTAGCAGGGTCAGCGCCCGCGGGTCAGCTATTCTCGCGTTGACCTAGCAGGGTCAGCGCCCGCGGCCAGCCGTCAGCTATTCTCGCGTTGACCTAG\n",
      "Original length of Fragment: 442\n",
      "Length of popped sequence:  19\n",
      "Popped a new sequence: CAGGGTCAGCGCCCGCGGC\n",
      "New length of Fragment: 461\n",
      "New Frag: GTCAGCTATTCTCGCGTTGACCTAGCAGGGTCAGCGCCCGTCAGCTATTCTCGCGTTGACCTAGCAGGGTCAGCGCCCGTCAGCTATTCTCGCGTTGACCTAGCAGGGTCAGCGCCCGCGGCCAGCGTCAGCTATTCTCGCGTTGACCTAGCAGGGTCAGCGCCCGCGGCCAGCCGGTCAGCTATTCTCGCGTTGACCTAGCAGGGTCAGCGCCCGCGGCCAGCCGGTCAGCTATTCTCGCGTTGACCTAGCAGGGTCAGCGCCCGCGGCCAGCCGGTCAGCTATTCTCGCGTTGACCTAGCAGGGCAGCGCCCGCGGCCAGCCGGTCAGCTATTCTCGCGTTGACCTAGCAGGGTCAGCGCCCGCGGGTCAGCTATTCTCGCGTTGACCTAGCAGGGTCAGCGCCCGCGGCCAGCCGTCAGCTATTCTCGCGTTGACCTAGCAGGGTCAGCGCCCGCGGC\n",
      "Length of seq_list 2\n",
      "--- 0.2879621982574463 seconds ---\n",
      "Runs recursion\n",
      "Old Frag: GTCAGCTATTCTCGCGTTGACCTAGCAGGGTCAGCGCCCGTCAGCTATTCTCGCGTTGACCTAGCAGGGTCAGCGCCCGTCAGCTATTCTCGCGTTGACCTAGCAGGGTCAGCGCCCGCGGCCAGCGTCAGCTATTCTCGCGTTGACCTAGCAGGGTCAGCGCCCGCGGCCAGCCGGTCAGCTATTCTCGCGTTGACCTAGCAGGGTCAGCGCCCGCGGCCAGCCGGTCAGCTATTCTCGCGTTGACCTAGCAGGGTCAGCGCCCGCGGCCAGCCGGTCAGCTATTCTCGCGTTGACCTAGCAGGGCAGCGCCCGCGGCCAGCCGGTCAGCTATTCTCGCGTTGACCTAGCAGGGTCAGCGCCCGCGGGTCAGCTATTCTCGCGTTGACCTAGCAGGGTCAGCGCCCGCGGCCAGCCGTCAGCTATTCTCGCGTTGACCTAGCAGGGTCAGCGCCCGCGGC\n",
      "Original length of Fragment: 461\n",
      "Length of popped sequence:  36\n",
      "Popped a new sequence: GTCAGCTATTCTCGCGTTGACCTAGCAGGGTCAGCG\n",
      "New length of Fragment: 497\n",
      "New Frag: GTCAGCTATTCTCGCGTTGACCTAGCAGGGTCAGCGCCCGTCAGCTATTCTCGCGTTGACCTAGCAGGGTCAGCGCCCGTCAGCTATTCTCGCGTTGACCTAGCAGGGTCAGCGCCCGCGGCCAGCGTCAGCTATTCTCGCGTTGACCTAGCAGGGTCAGCGCCCGCGGCCAGCCGGTCAGCTATTCTCGCGTTGACCTAGCAGGGTCAGCGCCCGCGGCCAGCCGGTCAGCTATTCTCGCGTTGACCTAGCAGGGTCAGCGCCCGCGGCCAGCCGGTCAGCTATTCTCGCGTTGACCTAGCAGGGCAGCGCCCGCGGCCAGCCGGTCAGCTATTCTCGCGTTGACCTAGCAGGGTCAGCGCCCGCGGGTCAGCTATTCTCGCGTTGACCTAGCAGGGTCAGCGCCCGCGGCCAGCCGTCAGCTATTCTCGCGTTGACCTAGCAGGGTCAGCGCCCGCGGCGTCAGCTATTCTCGCGTTGACCTAGCAGGGTCAGCG\n",
      "Length of seq_list 1\n",
      "--- 0.19886994361877441 seconds ---\n",
      "Returns if length == 1\n"
     ]
    }
   ],
   "source": [
    "\n",
    "import time\n",
    "\n",
    "def calc_merge_seq(new_frag, max_Score, seq_list_temp):\n",
    "    start_time = time.time()\n",
    "    length_of_seq = len(seq_list_temp)       \n",
    "    count = 0\n",
    "    for i in range(length_of_seq):\n",
    "        length = pairwise2.align.globalms(new_frag, seq_list_temp[i], p1, p2, p3, p3,\n",
    "                                              penalize_end_gaps=False)[0][2]\n",
    "        if(length > max_alignment_score):\n",
    "            max_Score = length\n",
    "            count = i\n",
    "\n",
    "        \n",
    "    \n",
    "    if(max_Score > 0):\n",
    "            print(\"Old Frag:\", new_frag)\n",
    "            print(\"Original length of Fragment:\", len(new_frag))\n",
    "            print(\"Length of popped sequence: \", len(seq_list_temp[count]))\n",
    "            print(\"Popped a new sequence:\", seq_list_temp[count])\n",
    "            \n",
    "            new_frag = new_frag + seq_list_temp[count]\n",
    "            print(\"New length of Fragment:\", len(new_frag))\n",
    "            \n",
    "            print(\"New Frag:\", new_frag)\n",
    "            seq_list_temp.pop(count)\n",
    "            print(\"Length of seq_list\", len(seq_list_temp))\n",
    "            length_of_seq = length_of_seq - 1    \n",
    "            print(\"--- %s seconds ---\" % (time.time() - start_time))\n",
    "            \n",
    "    elif(max_alignment_score < 0):\n",
    "        print(\"Returns if max < 0\") \n",
    "        return new_frag\n",
    "        \n",
    "    if(length_of_seq > 1):\n",
    "        print(\"Runs recursion\")\n",
    "        return calc_merge_seq(new_frag, max_Score, seq_list_temp)\n",
    "    \n",
    "    elif(length_of_seq == 1):\n",
    "        print(\"Returns if length == 1\") \n",
    "        return new_frag\n",
    "    \n",
    "new_list = []\n",
    "new_list = calc_merge_seq(new_frag, max_alignment_score, seq_list)"
   ]
  },
  {
   "cell_type": "code",
   "execution_count": 304,
   "metadata": {},
   "outputs": [
    {
     "data": {
      "text/plain": [
       "'GTCAGCTATTCTCGCGTTGACCTAGCAGGGTCAGCGCCCGTCAGCTATTCTCGCGTTGACCTAGCAGGGTCAGCGCCCGTCAGCTATTCTCGCGTTGACCTAGCAGGGTCAGCGCCCGCGGCCAGCGTCAGCTATTCTCGCGTTGACCTAGCAGGGTCAGCGCCCGCGGCCAGCCGGTCAGCTATTCTCGCGTTGACCTAGCAGGGTCAGCGCCCGCGGCCAGCCGGTCAGCTATTCTCGCGTTGACCTAGCAGGGTCAGCGCCCGCGGCCAGCCGGTCAGCTATTCTCGCGTTGACCTAGCAGGGCAGCGCCCGCGGCCAGCCGGTCAGCTATTCTCGCGTTGACCTAGCAGGGTCAGCGCCCGCGGGTCAGCTATTCTCGCGTTGACCTAGCAGGGTCAGCGCCCGCGGCCAGCCGTCAGCTATTCTCGCGTTGACCTAGCAGGGTCAGCGCCCGCGGCGTCAGCTATTCTCGCGTTGACCTAGCAGGGTCAGCG'"
      ]
     },
     "execution_count": 304,
     "metadata": {},
     "output_type": "execute_result"
    }
   ],
   "source": [
    "new_list"
   ]
  },
  {
   "cell_type": "code",
   "execution_count": 246,
   "metadata": {},
   "outputs": [],
   "source": [
    "output_file = output_file + \".fasta\"\n",
    "o_file = open(output_file, \"w\")\n",
    "\n",
    "o_file.write(\">\" + \"CombinedSequence1\" + \"\\n\" +''.join(new_list) + \"\\n\")\n",
    "\n",
    "o_file.close()"
   ]
  },
  {
   "cell_type": "code",
   "execution_count": 250,
   "metadata": {},
   "outputs": [],
   "source": [
    "# seq_list =[]\n",
    "# output_file = \"Final_outputfile.fasta\"\n",
    "# ofile1 = open(output_file, \"r\")\n",
    "# ofile_content1 = ofile1.read()\n",
    "# #print(ofile_content)\n",
    "# words1 = str.split(ofile_content1)\n",
    "# #print(words)\n",
    "# for i in range(len(words1)):\n",
    "#     if(\"S\" not in words1[i]):\n",
    "#         #print(\"hello\")\n",
    "#         seq_list.append(words1[i])\n",
    "# ofile1.close()"
   ]
  },
  {
   "cell_type": "code",
   "execution_count": 251,
   "metadata": {},
   "outputs": [
    {
     "data": {
      "text/plain": [
       "['>CombinedSequence1',\n",
       " 'CCCGCGGCCAGCCCCGCGGCCAGCCAGGGTCAGCGCCCGCGGCGTCAGCTATTCTCGCGTTGACCTAGGCGTTGACCTAGCAGGGTCAGCGCCCGCGGCCAGCCGTCAGCTATTCTCGGTCAGCGCCCGCGGGTCAGCTATTCTCGCGTTGACCTAGCAGCAGCGCCCGCGGCCAGCCGTCGCGTTGACCTAGCAGGGGTCAGCTATTCGCCCGCGGCCAGCCGGTCAGCTATTCTCGCGTTGACCTAGCAGGGTCAGCGCGGCCAGCCGGTCAGCTATTCTCGCGTTGACCTAGCAGGGTCAGCGCCCCCGCGGCCAGCCGCTCGCGTTGACCTAGCAGGGTCAGCGCGTCAGCTATTGCGGCCAGCCGCTCGCGTTGACCTAGCAGGGTCAGCGCCCGTCAGCTATTAGGGTCAGCGCCCGCGGCCAGC']"
      ]
     },
     "execution_count": 251,
     "metadata": {},
     "output_type": "execute_result"
    }
   ],
   "source": [
    "# words1"
   ]
  },
  {
   "cell_type": "code",
   "execution_count": null,
   "metadata": {},
   "outputs": [],
   "source": []
  }
 ],
 "metadata": {
  "kernelspec": {
   "display_name": "Python 3",
   "language": "python",
   "name": "python3"
  },
  "language_info": {
   "codemirror_mode": {
    "name": "ipython",
    "version": 3
   },
   "file_extension": ".py",
   "mimetype": "text/x-python",
   "name": "python",
   "nbconvert_exporter": "python",
   "pygments_lexer": "ipython3",
   "version": "3.7.6"
  }
 },
 "nbformat": 4,
 "nbformat_minor": 4
}
